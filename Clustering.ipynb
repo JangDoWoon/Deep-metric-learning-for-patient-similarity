{
 "cells": [
  {
   "cell_type": "code",
   "execution_count": 1,
   "id": "37f30855",
   "metadata": {},
   "outputs": [],
   "source": [
    "import os\n",
    "import pandas as pd\n",
    "import tensorflow as tf\n",
    "import keras\n",
    "import numpy as np\n",
    "\n",
    "from keras import regularizers\n",
    "from keras.layers import Flatten\n",
    "import collections\n",
    "from sklearn.model_selection import train_test_split\n",
    "import warnings\n",
    "import tensorflow.keras.backend as K\n",
    "from tensorflow.keras.models import Model\n",
    "from tensorflow.keras.layers import Input,Conv1D,Dense,Dropout,MaxPooling1D,ZeroPadding1D, Flatten,BatchNormalization,Lambda\n",
    "from keras.models import load_model\n",
    "\n",
    "from gensim.test.utils import common_texts\n",
    "from gensim.models.doc2vec import Doc2Vec, TaggedDocument\n",
    "from gensim.models import doc2vec"
   ]
  },
  {
   "cell_type": "code",
   "execution_count": 2,
   "id": "92d50846",
   "metadata": {},
   "outputs": [],
   "source": [
    "# Doc2Vec 모델 불러오기\n",
    "p2v_model = doc2vec.Doc2Vec.load('p2v_128_all_1.model')\n",
    "# 데이터 불러오기\n",
    "data=pd.read_csv('all_after_filter.csv')\n",
    "person_id=data['PERSON_ID'].unique()\n",
    "data.sort_values('RECU_FR_DT',inplace=True)\n",
    "data.drop(columns=['KEY_SEQ','RECU_FR_DT','MAIN_ICDnorm'],inplace=True)\n",
    "person_id=person_id.tolist()\n",
    "train_label_df=pd.read_csv('label_train1.csv')\n",
    "test_label_df=pd.read_csv('label_test1.csv')\n",
    "train_label_df.iloc[:,2]=train_label_df.iloc[:,2].astype('float32')\n",
    "test_label_df.iloc[:,2]=test_label_df.iloc[:,2].astype('float32')\n",
    "person_doc_dict={key:value for value,key in enumerate(person_id)}"
   ]
  },
  {
   "cell_type": "code",
   "execution_count": 3,
   "id": "84ba92fc",
   "metadata": {},
   "outputs": [],
   "source": [
    "# 임베딩 값 불러오기\n",
    "embedding=np.load('embedding_metrix_1.npy')"
   ]
  },
  {
   "cell_type": "code",
   "execution_count": 4,
   "id": "bc808c7b",
   "metadata": {},
   "outputs": [],
   "source": [
    "# similarity learning을 진행하기 위한 데이터 셋 만들기\n",
    "class CSV_dataset():\n",
    "    def __init__(self, label_df, person_doc_dict, embedding):\n",
    "        super(CSV_dataset, self).__init__()\n",
    "        self.label_df = label_df\n",
    "        self.person_doc_dict = person_doc_dict\n",
    "        self.embedding = embedding\n",
    "    def __getitem__(self, item):\n",
    "        person_1 = self.label_df.iloc[item, 0]\n",
    "        person_2 = self.label_df.iloc[item, 1]\n",
    "        person_1_id=self.person_doc_dict[person_1]\n",
    "        person_2_id=self.person_doc_dict[person_2]\n",
    "        person_1_vec =self.embedding[person_1_id]\n",
    "        person_2_vec =self.embedding[person_2_id]\n",
    "        similarity = self.label_df.iloc[item, 2]\n",
    "        \n",
    "        return person_1_vec, person_2_vec, similarity\n",
    "    def __len__(self):\n",
    "        return len(self.label_df)"
   ]
  },
  {
   "cell_type": "code",
   "execution_count": 5,
   "id": "519dc6ba",
   "metadata": {},
   "outputs": [],
   "source": [
    "# specify the shape of the inputs for our network\n",
    "IMG_SHAPE = (480, 128)\n",
    "# specify the batch size and number of epochs\n",
    "BATCH_SIZE = 64\n",
    "EPOCHS = 100\n",
    "# define the path to the base output directory\n",
    "BASE_OUTPUT = \"output\"\n",
    "\n",
    "MODEL_PATH = os.path.sep.join([BASE_OUTPUT,\n",
    "\t\"contrastive_siamese_model\"])\n",
    "PLOT_PATH = os.path.sep.join([BASE_OUTPUT,\n",
    "\t\"contrastive_plot.png\"])"
   ]
  },
  {
   "cell_type": "code",
   "execution_count": 6,
   "id": "ae8cddf4",
   "metadata": {},
   "outputs": [],
   "source": [
    "# 두 환자의 representation vector를 얻기위한 model 생성\n",
    "def build_siamese_model(inputShape):\n",
    "    inputs = Input(inputShape)\n",
    "    x = Conv1D(64, 10, padding=\"same\", activation=\"relu\",kernel_regularizer = regularizers.l2(0.001))(inputs)\n",
    "    x = BatchNormalization()(x)\n",
    "    x = MaxPooling1D()(x)\n",
    "    x = Dropout(0.3)(x)\n",
    "    \n",
    "    x = Conv1D(64, 7, padding=\"same\", activation=\"relu\",kernel_regularizer = regularizers.l2(0.001))(inputs)\n",
    "    x = BatchNormalization()(x)\n",
    "    x = MaxPooling1D()(x)\n",
    "    x = Dropout(0.3)(x)\n",
    "    \n",
    "    x = Conv1D(64, 5, padding=\"same\", activation=\"relu\",kernel_regularizer = regularizers.l2(0.001))(inputs)\n",
    "    x = BatchNormalization()(x)\n",
    "    x = MaxPooling1D()(x)\n",
    "    x = Dropout(0.3)(x)\n",
    "    \n",
    "    x = Conv1D(128, 10, padding=\"same\", activation=\"relu\",kernel_regularizer = regularizers.l2(0.001))(x)\n",
    "    x = BatchNormalization()(x)\n",
    "    x = MaxPooling1D( )(x)\n",
    "    x = Dropout(0.3)(x)\n",
    "    \n",
    "\n",
    "    x = Conv1D(128, 7, padding=\"same\", activation=\"relu\",kernel_regularizer = regularizers.l2(0.001))(x)\n",
    "    x = BatchNormalization()(x)\n",
    "    x = MaxPooling1D()(x)\n",
    "    x = Dropout(0.3)(x)\n",
    "    \n",
    "    x = Conv1D(128, 5, padding=\"same\", activation=\"relu\",kernel_regularizer = regularizers.l2(0.001))(x)\n",
    "    x = BatchNormalization()(x)\n",
    "    x = MaxPooling1D()(x)\n",
    "    x = Dropout(0.3)(x)\n",
    "    \n",
    "    x = Conv1D(128, 5, padding=\"same\", activation=\"relu\",kernel_regularizer = regularizers.l2(0.001))(x)\n",
    "    x = BatchNormalization()(x)\n",
    "    x = MaxPooling1D()(x)\n",
    "    x = Dropout(0.3)(x)\n",
    "\n",
    "    \n",
    "    outputs = Flatten()(x)\n",
    "    model = Model(inputs, outputs)\n",
    "    return model"
   ]
  },
  {
   "cell_type": "code",
   "execution_count": 7,
   "id": "150cb108",
   "metadata": {},
   "outputs": [],
   "source": [
    "# 두 vactor 사이에 L2 거리구하기\n",
    "def euclidean_distance(vectors):\n",
    "    # unpack the vectors into separate lists\n",
    "    (featsA, featsB) = vectors\n",
    "    # compute the sum of squared distances between the vectors\n",
    "    sumSquared = K.sum(K.square(featsA - featsB), axis=1,\n",
    "        keepdims=True)\n",
    "    # return the euclidean distance between the vectors\n",
    "    return K.sqrt(K.maximum(sumSquared, K.epsilon()))"
   ]
  },
  {
   "cell_type": "code",
   "execution_count": 8,
   "id": "8a1d9321",
   "metadata": {},
   "outputs": [],
   "source": [
    "# loss fuction 만들기\n",
    "def contrastive_loss(y, preds, margin=1):\n",
    "    y = tf.cast(y, preds.dtype)\n",
    "    squaredPreds = K.square(preds)\n",
    "    squaredMargin = K.square(K.maximum(margin - preds, 0))\n",
    "    loss = K.mean(y * squaredPreds + (1 - y) * squaredMargin)\n",
    "    return loss"
   ]
  },
  {
   "cell_type": "code",
   "execution_count": 9,
   "id": "78ab903e",
   "metadata": {},
   "outputs": [],
   "source": [
    "imgA = Input(shape=IMG_SHAPE)\n",
    "imgB = Input(shape=IMG_SHAPE)\n",
    "# Feature vector 만들기\n",
    "featureExtractor = build_siamese_model(IMG_SHAPE)\n",
    "featsA = featureExtractor(imgA)\n",
    "featsB = featureExtractor(imgB)\n",
    "\n",
    "# 두 feature vector간 거리구하기\n",
    "distance = Lambda(euclidean_distance)([featsA,featsB])\n",
    "model = Model(inputs=[imgA, imgB], outputs=distance)"
   ]
  },
  {
   "cell_type": "code",
   "execution_count": 10,
   "id": "6a4ac9a6",
   "metadata": {},
   "outputs": [
    {
     "name": "stdout",
     "output_type": "stream",
     "text": [
      "[INFO] compiling model...\n"
     ]
    }
   ],
   "source": [
    "print(\"[INFO] compiling model...\")\n",
    "opt = keras.optimizers.Adam(learning_rate = 0.001)\n",
    "model.compile(loss=contrastive_loss, optimizer=opt)\n",
    "from keras.models import load_model\n",
    "model.load_weights(\"sam_model.h5\")"
   ]
  },
  {
   "cell_type": "code",
   "execution_count": 56,
   "id": "cae652ec",
   "metadata": {},
   "outputs": [],
   "source": [
    "data = pd.read_csv('final_label.csv')"
   ]
  },
  {
   "cell_type": "code",
   "execution_count": 57,
   "id": "eee924e8",
   "metadata": {},
   "outputs": [],
   "source": [
    "# empty 즉 합병증이 없는 환자 0으로 채우기\n",
    "data=data.fillna(0)"
   ]
  },
  {
   "cell_type": "code",
   "execution_count": 58,
   "id": "7889d613",
   "metadata": {},
   "outputs": [],
   "source": [
    "# cluster 만들기 0번 cluster는 모든 합병증이 없는 클러스터이고 나머지 cluster는 각 cluster의 합병증이 존지하는 환자들을 배치함\n",
    "cluster0=data[data['FOOT'] == 0]\n",
    "for i in ['MULTI','HYP','KDY','NEURO','HRT','STK']:\n",
    "    cluster0=cluster0[cluster0[i] == 0]\n",
    "cluster1=data[data['FOOT'] == 1]\n",
    "cluster2=data[data['MULTI'] == 1]\n",
    "cluster3=data[data['HYP'] == 1]\n",
    "cluster4=data[data['KDY'] == 1]\n",
    "cluster5=data[data['NEURO'] == 1]\n",
    "cluster6=data[data['HRT'] == 1]\n",
    "cluster7=data[data['STK'] == 1]"
   ]
  },
  {
   "cell_type": "code",
   "execution_count": 59,
   "id": "54acd748",
   "metadata": {},
   "outputs": [],
   "source": [
    "# 각 cluster 별 100명씩 sampling함\n",
    "cluster0=cluster0.sample(n = 100)\n",
    "cluster1=cluster1.sample(n = 100)\n",
    "cluster2=cluster2.sample(n = 100)\n",
    "cluster3=cluster3.sample(n = 100)\n",
    "cluster4=cluster4.sample(n = 100)\n",
    "cluster5=cluster5.sample(n = 100)\n",
    "cluster6=cluster6.sample(n = 100)\n",
    "cluster7=cluster7.sample(n = 100)"
   ]
  },
  {
   "cell_type": "code",
   "execution_count": 60,
   "id": "56c6362b",
   "metadata": {},
   "outputs": [],
   "source": [
    "cluster0=cluster0['PERSON_ID'].tolist()\n",
    "cluster1=cluster1['PERSON_ID'].tolist()\n",
    "cluster2=cluster2['PERSON_ID'].tolist()\n",
    "cluster3=cluster3['PERSON_ID'].tolist()\n",
    "cluster4=cluster4['PERSON_ID'].tolist()\n",
    "cluster5=cluster5['PERSON_ID'].tolist()\n",
    "cluster6=cluster6['PERSON_ID'].tolist()\n",
    "cluster7=cluster7['PERSON_ID'].tolist()"
   ]
  },
  {
   "cell_type": "code",
   "execution_count": 61,
   "id": "93c30142",
   "metadata": {},
   "outputs": [],
   "source": [
    "cluster=[cluster0,cluster1,cluster2,cluster3,cluster4,cluster5,cluster6,cluster7]"
   ]
  },
  {
   "cell_type": "code",
   "execution_count": 62,
   "id": "a8a0c19f",
   "metadata": {},
   "outputs": [],
   "source": [
    "# cluser의 환자들의 환자 id에서 환자의 embedding 값으로 바꿈\n",
    "clu_em = []\n",
    "for clu in cluster:\n",
    "    embe =[]\n",
    "    for person_id in clu:\n",
    "        person_1_id=person_doc_dict[person_id]\n",
    "        person_vec = embedding[person_1_id]\n",
    "        embe.append(person_vec)\n",
    "    clu_em.append(embe)"
   ]
  },
  {
   "cell_type": "code",
   "execution_count": 63,
   "id": "56ba86ac",
   "metadata": {},
   "outputs": [],
   "source": [
    "# clustering 할 데이터 선택\n",
    "a=data['PERSON_ID'].sample(n = 100)\n",
    "per_test=a.tolist()"
   ]
  },
  {
   "cell_type": "code",
   "execution_count": 64,
   "id": "715ab103",
   "metadata": {},
   "outputs": [],
   "source": [
    "# clustering 할 데이터 embedding값으로 바꾸기\n",
    "test_per = []\n",
    "for person_id in per_test:\n",
    "    test = []\n",
    "    person_1_id=person_doc_dict[person_id]\n",
    "    person_vec = embedding[person_1_id]\n",
    "    for _ in range(100):\n",
    "        test.append(person_vec)\n",
    "    test_per.append(test)"
   ]
  },
  {
   "cell_type": "code",
   "execution_count": 65,
   "id": "5ef230bd",
   "metadata": {},
   "outputs": [],
   "source": [
    "# 각 데이터별 결과값 (두 데이터사이의 거리)\n",
    "result = []\n",
    "for test in test_per:\n",
    "    re = []\n",
    "    for clu in clu_em:\n",
    "        clu = np.array(clu)\n",
    "        test = np.array(test)\n",
    "        pre=model.predict([clu,test])\n",
    "        re.append(pre)\n",
    "    result.append(re)"
   ]
  },
  {
   "cell_type": "code",
   "execution_count": 66,
   "id": "7a9a96a4",
   "metadata": {},
   "outputs": [],
   "source": [
    "# 가장 많은 값 구하기\n",
    "from collections import Counter\n",
    "def most_common_top_1(candidates):\n",
    "    assert isinstance(candidates, list)\n",
    "    if len(candidates) == 0: return None\n",
    "    return Counter(candidates).most_common(n=1)[0][0]"
   ]
  },
  {
   "cell_type": "code",
   "execution_count": 67,
   "id": "a3633295",
   "metadata": {},
   "outputs": [],
   "source": [
    "# KNN 클러스터링 기법을 이용함 \n",
    "final_cluster = []\n",
    "for test in result:\n",
    "    clumin = []\n",
    "    clu_list = []\n",
    "    for clu in test:\n",
    "        for i in clu:\n",
    "            clu_list.append(clu[0])\n",
    "    so = sorted(clu_list)\n",
    "    so_list=[]\n",
    "    for i in range(10):\n",
    "        so_list.append(so[i])\n",
    "    final_list =[]\n",
    "    for so in so_list:\n",
    "        for i in so:\n",
    "            clu = clu_list.index(i) \n",
    "        clu = int((clu+1)//100)\n",
    "        final_list.append(clu)\n",
    "    clu=most_common_top_1(final_list)\n",
    "    final_cluster.append(clu)"
   ]
  },
  {
   "cell_type": "code",
   "execution_count": 68,
   "id": "5ec947f9",
   "metadata": {},
   "outputs": [
    {
     "name": "stdout",
     "output_type": "stream",
     "text": [
      "0.39\n"
     ]
    }
   ],
   "source": [
    "# clustering 결과값 보기\n",
    "counts = 0\n",
    "for per_id,clu in zip(per_test,final_cluster):\n",
    "    x=data[data['PERSON_ID'] == per_id]\n",
    "    if x.iloc[:,3+clu].values == 1:\n",
    "        counts+=1\n",
    "    elif (x.iloc[:,4].values ==\n",
    "          clu) and (x.iloc[:,5].values == clu) and (x.iloc[:,6].values == clu) and (x.iloc[:,7].values == clu) and (x.iloc[:,8].values == clu) and (x.iloc[:,9].values == clu) and (x.iloc[:,10].values == clu):\n",
    "        counts += 1\n",
    "print(counts/100)"
   ]
  },
  {
   "cell_type": "code",
   "execution_count": 69,
   "id": "477500e7",
   "metadata": {},
   "outputs": [
    {
     "name": "stdout",
     "output_type": "stream",
     "text": [
      "0.15\n"
     ]
    }
   ],
   "source": [
    "# random으로 했을때 결과값 보기\n",
    "import random\n",
    "ran_cluster = []\n",
    "for _ in range(100):\n",
    "    a = random.randint(0,7)\n",
    "    ran_cluster.append(a)\n",
    "count = 0\n",
    "\n",
    "for per_id,clu in zip(per_test,ran_cluster):\n",
    "    x=data[data['PERSON_ID'] == per_id]\n",
    "    if x.iloc[:,3+clu].values == 1:\n",
    "        count+=1\n",
    "    elif (x.iloc[:,4].values == clu) and (x.iloc[:,5].values == clu) and (x.iloc[:,6].values == clu) and (x.iloc[:,7].values == clu) and (x.iloc[:,8].values == clu) and (x.iloc[:,9].values == clu) and (x.iloc[:,10].values == clu):\n",
    "        count += 1\n",
    "print(count/100)"
   ]
  },
  {
   "cell_type": "code",
   "execution_count": 70,
   "id": "299a1795",
   "metadata": {},
   "outputs": [],
   "source": [
    "df=pd.DataFrame({'person_id':per_test,'Cluster':final_cluster})"
   ]
  },
  {
   "cell_type": "code",
   "execution_count": 71,
   "id": "7e4c8958",
   "metadata": {},
   "outputs": [],
   "source": [
    "df.to_csv('final_cluster.csv')"
   ]
  },
  {
   "cell_type": "code",
   "execution_count": 72,
   "id": "63785a2e",
   "metadata": {},
   "outputs": [],
   "source": [
    "import matplotlib.pyplot as plt"
   ]
  },
  {
   "cell_type": "code",
   "execution_count": 73,
   "id": "e498977a",
   "metadata": {},
   "outputs": [
    {
     "data": {
      "image/png": "[encoded data removed]",
      "text/plain": [
       "<Figure size 432x288 with 1 Axes>"
      ]
     },
     "metadata": {
      "needs_background": "light"
     },
     "output_type": "display_data"
    }
   ],
   "source": [
    "# clustering 결과 비교\n",
    "index = ['Random','proposed_model']\n",
    "value = [count,counts]\n",
    "plt.bar(index,value)\n",
    "plt.title('Results of Clustering', fontsize=20)\n",
    "plt.xlabel('Method', fontsize=18)\n",
    "plt.ylabel('Probability', fontsize=18)\n",
    "plt.show()\n",
    "\n"
   ]
  },
  {
   "cell_type": "code",
   "execution_count": 74,
   "id": "b9b2fe2f",
   "metadata": {},
   "outputs": [],
   "source": [
    "del data['GNL_NM_CD']\n",
    "del data['SICK_SYMnorm']\n",
    "del data['MAIN_ICDnorm']"
   ]
  },
  {
   "cell_type": "code",
   "execution_count": 75,
   "id": "e176f9db",
   "metadata": {},
   "outputs": [
    {
     "data": {
      "text/html": [
       "<div>\n",
       "<style scoped>\n",
       "    .dataframe tbody tr th:only-of-type {\n",
       "        vertical-align: middle;\n",
       "    }\n",
       "\n",
       "    .dataframe tbody tr th {\n",
       "        vertical-align: top;\n",
       "    }\n",
       "\n",
       "    .dataframe thead th {\n",
       "        text-align: right;\n",
       "    }\n",
       "</style>\n",
       "<table border=\"1\" class=\"dataframe\">\n",
       "  <thead>\n",
       "    <tr style=\"text-align: right;\">\n",
       "      <th></th>\n",
       "      <th>PERSON_ID</th>\n",
       "      <th>FOOT</th>\n",
       "      <th>MULTI</th>\n",
       "      <th>HYP</th>\n",
       "      <th>KDY</th>\n",
       "      <th>NEURO</th>\n",
       "      <th>HRT</th>\n",
       "      <th>STK</th>\n",
       "    </tr>\n",
       "  </thead>\n",
       "  <tbody>\n",
       "    <tr>\n",
       "      <th>49657</th>\n",
       "      <td>77634117</td>\n",
       "      <td>0.0</td>\n",
       "      <td>0.0</td>\n",
       "      <td>0.0</td>\n",
       "      <td>0.0</td>\n",
       "      <td>0.0</td>\n",
       "      <td>0.0</td>\n",
       "      <td>0.0</td>\n",
       "    </tr>\n",
       "    <tr>\n",
       "      <th>20615</th>\n",
       "      <td>34579052</td>\n",
       "      <td>1.0</td>\n",
       "      <td>1.0</td>\n",
       "      <td>0.0</td>\n",
       "      <td>0.0</td>\n",
       "      <td>1.0</td>\n",
       "      <td>0.0</td>\n",
       "      <td>0.0</td>\n",
       "    </tr>\n",
       "    <tr>\n",
       "      <th>15760</th>\n",
       "      <td>28854851</td>\n",
       "      <td>0.0</td>\n",
       "      <td>0.0</td>\n",
       "      <td>0.0</td>\n",
       "      <td>0.0</td>\n",
       "      <td>0.0</td>\n",
       "      <td>0.0</td>\n",
       "      <td>0.0</td>\n",
       "    </tr>\n",
       "    <tr>\n",
       "      <th>39775</th>\n",
       "      <td>63150693</td>\n",
       "      <td>0.0</td>\n",
       "      <td>0.0</td>\n",
       "      <td>1.0</td>\n",
       "      <td>1.0</td>\n",
       "      <td>1.0</td>\n",
       "      <td>0.0</td>\n",
       "      <td>0.0</td>\n",
       "    </tr>\n",
       "    <tr>\n",
       "      <th>41454</th>\n",
       "      <td>65484061</td>\n",
       "      <td>0.0</td>\n",
       "      <td>0.0</td>\n",
       "      <td>0.0</td>\n",
       "      <td>1.0</td>\n",
       "      <td>1.0</td>\n",
       "      <td>0.0</td>\n",
       "      <td>0.0</td>\n",
       "    </tr>\n",
       "    <tr>\n",
       "      <th>...</th>\n",
       "      <td>...</td>\n",
       "      <td>...</td>\n",
       "      <td>...</td>\n",
       "      <td>...</td>\n",
       "      <td>...</td>\n",
       "      <td>...</td>\n",
       "      <td>...</td>\n",
       "      <td>...</td>\n",
       "    </tr>\n",
       "    <tr>\n",
       "      <th>4325</th>\n",
       "      <td>14796354</td>\n",
       "      <td>0.0</td>\n",
       "      <td>0.0</td>\n",
       "      <td>0.0</td>\n",
       "      <td>1.0</td>\n",
       "      <td>0.0</td>\n",
       "      <td>0.0</td>\n",
       "      <td>0.0</td>\n",
       "    </tr>\n",
       "    <tr>\n",
       "      <th>29581</th>\n",
       "      <td>48990306</td>\n",
       "      <td>0.0</td>\n",
       "      <td>0.0</td>\n",
       "      <td>0.0</td>\n",
       "      <td>0.0</td>\n",
       "      <td>0.0</td>\n",
       "      <td>0.0</td>\n",
       "      <td>0.0</td>\n",
       "    </tr>\n",
       "    <tr>\n",
       "      <th>2016</th>\n",
       "      <td>12376732</td>\n",
       "      <td>0.0</td>\n",
       "      <td>0.0</td>\n",
       "      <td>0.0</td>\n",
       "      <td>0.0</td>\n",
       "      <td>1.0</td>\n",
       "      <td>0.0</td>\n",
       "      <td>0.0</td>\n",
       "    </tr>\n",
       "    <tr>\n",
       "      <th>61144</th>\n",
       "      <td>94664472</td>\n",
       "      <td>0.0</td>\n",
       "      <td>0.0</td>\n",
       "      <td>0.0</td>\n",
       "      <td>0.0</td>\n",
       "      <td>0.0</td>\n",
       "      <td>0.0</td>\n",
       "      <td>0.0</td>\n",
       "    </tr>\n",
       "    <tr>\n",
       "      <th>42549</th>\n",
       "      <td>67040042</td>\n",
       "      <td>0.0</td>\n",
       "      <td>1.0</td>\n",
       "      <td>0.0</td>\n",
       "      <td>0.0</td>\n",
       "      <td>0.0</td>\n",
       "      <td>0.0</td>\n",
       "      <td>0.0</td>\n",
       "    </tr>\n",
       "  </tbody>\n",
       "</table>\n",
       "<p>100 rows × 8 columns</p>\n",
       "</div>"
      ],
      "text/plain": [
       "       PERSON_ID  FOOT  MULTI  HYP  KDY  NEURO  HRT  STK\n",
       "49657   77634117   0.0    0.0  0.0  0.0    0.0  0.0  0.0\n",
       "20615   34579052   1.0    1.0  0.0  0.0    1.0  0.0  0.0\n",
       "15760   28854851   0.0    0.0  0.0  0.0    0.0  0.0  0.0\n",
       "39775   63150693   0.0    0.0  1.0  1.0    1.0  0.0  0.0\n",
       "41454   65484061   0.0    0.0  0.0  1.0    1.0  0.0  0.0\n",
       "...          ...   ...    ...  ...  ...    ...  ...  ...\n",
       "4325    14796354   0.0    0.0  0.0  1.0    0.0  0.0  0.0\n",
       "29581   48990306   0.0    0.0  0.0  0.0    0.0  0.0  0.0\n",
       "2016    12376732   0.0    0.0  0.0  0.0    1.0  0.0  0.0\n",
       "61144   94664472   0.0    0.0  0.0  0.0    0.0  0.0  0.0\n",
       "42549   67040042   0.0    1.0  0.0  0.0    0.0  0.0  0.0\n",
       "\n",
       "[100 rows x 8 columns]"
      ]
     },
     "execution_count": 75,
     "metadata": {},
     "output_type": "execute_result"
    }
   ],
   "source": [
    "data.sample(n = 100)"
   ]
  },
  {
   "cell_type": "code",
   "execution_count": 76,
   "id": "1de153c0",
   "metadata": {},
   "outputs": [
    {
     "data": {
      "text/plain": [
       "array([[0.63036656]], dtype=float32)"
      ]
     },
     "execution_count": 76,
     "metadata": {},
     "output_type": "execute_result"
    }
   ],
   "source": [
    "\n",
    "person_1_id=person_doc_dict[87936954]\n",
    "person_vec_1 = embedding[person_1_id]\n",
    "person_vec_1 = np.array([person_vec_1])\n",
    "\n",
    "person_2_id=person_doc_dict[32829228]\n",
    "person_vec_2 = embedding[person_2_id]\n",
    "person_vec_2 = np.array([person_vec_2])\n",
    "\n",
    "model.predict([person_vec_1,person_vec_2])"
   ]
  },
  {
   "cell_type": "code",
   "execution_count": 77,
   "id": "ae5b9055",
   "metadata": {},
   "outputs": [
    {
     "data": {
      "text/plain": [
       "array([[[ 0.17169163, -0.29480436,  0.33347186, ..., -0.12836643,\n",
       "         -0.04787501,  0.3555231 ],\n",
       "        [ 0.28153384, -0.36112982,  0.40317053, ..., -0.18694355,\n",
       "         -0.18544139,  0.2509217 ],\n",
       "        [ 0.04312541, -0.05182842,  0.34174114, ..., -0.00810701,\n",
       "          0.05645221, -0.00646158],\n",
       "        ...,\n",
       "        [ 0.        ,  0.        ,  0.        , ...,  0.        ,\n",
       "          0.        ,  0.        ],\n",
       "        [ 0.        ,  0.        ,  0.        , ...,  0.        ,\n",
       "          0.        ,  0.        ],\n",
       "        [ 0.        ,  0.        ,  0.        , ...,  0.        ,\n",
       "          0.        ,  0.        ]]], dtype=float32)"
      ]
     },
     "execution_count": 77,
     "metadata": {},
     "output_type": "execute_result"
    }
   ],
   "source": [
    "person_vec_1"
   ]
  },
  {
   "cell_type": "code",
   "execution_count": null,
   "id": "fad8195e",
   "metadata": {},
   "outputs": [],
   "source": []
  }
 ],
 "metadata": {
  "kernelspec": {
   "display_name": "Python 3",
   "language": "python",
   "name": "python3"
  },
  "language_info": {
   "codemirror_mode": {
    "name": "ipython",
    "version": 3
   },
   "file_extension": ".py",
   "mimetype": "text/x-python",
   "name": "python",
   "nbconvert_exporter": "python",
   "pygments_lexer": "ipython3",
   "version": "3.8.8"
  }
 },
 "nbformat": 4,
 "nbformat_minor": 5
}
