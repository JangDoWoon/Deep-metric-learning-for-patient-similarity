{
 "cells": [
  {
   "cell_type": "code",
   "execution_count": 60,
   "id": "a883d35d",
   "metadata": {},
   "outputs": [],
   "source": [
    "import os\n",
    "import pandas as pd\n",
    "import tensorflow as tf\n",
    "import keras\n",
    "import numpy as np\n",
    "\n",
    "from keras import regularizers\n",
    "from keras.layers import Flatten\n",
    "import collections\n",
    "from sklearn.model_selection import train_test_split\n",
    "import warnings\n",
    "import tensorflow.keras.backend as K\n",
    "from tensorflow.keras.models import Model\n",
    "from tensorflow.keras.layers import Input,Conv1D,Dense,Dropout,MaxPooling1D,ZeroPadding1D, Flatten,BatchNormalization,Lambda\n",
    "from keras.models import load_model\n",
    "\n",
    "from gensim.test.utils import common_texts\n",
    "from gensim.models.doc2vec import Doc2Vec, TaggedDocument\n",
    "from gensim.models import doc2vec"
   ]
  },
  {
   "cell_type": "code",
   "execution_count": 2,
   "id": "012a32e3",
   "metadata": {},
   "outputs": [],
   "source": [
    "# Doc2Vec 모델 불러오기\n",
    "p2v_model = doc2vec.Doc2Vec.load('C:/Users/dowoon/Desktop/리영 유사도/p2v_128_all_1.model')\n",
    "# 데이터 불러오기\n",
    "data=pd.read_csv('C:/Users/dowoon/Desktop/리영 유사도/all_after_filter.csv')\n",
    "person_id=data['PERSON_ID'].unique()\n",
    "data.sort_values('RECU_FR_DT',inplace=True)\n",
    "data.drop(columns=['KEY_SEQ','RECU_FR_DT','MAIN_ICDnorm'],inplace=True)\n",
    "person_id=person_id.tolist()\n",
    "train_label_df=pd.read_csv('C:/Users/dowoon/Desktop/유사도 프로젝트/project/label_train1.csv')\n",
    "test_label_df=pd.read_csv('C:/Users/dowoon/Desktop/유사도 프로젝트/project/label_test1.csv')\n",
    "train_label_df.iloc[:,2]=train_label_df.iloc[:,2].astype('float32')\n",
    "test_label_df.iloc[:,2]=test_label_df.iloc[:,2].astype('float32')\n",
    "person_doc_dict={key:value for value,key in enumerate(person_id)}"
   ]
  },
  {
   "cell_type": "code",
   "execution_count": 3,
   "id": "df170557",
   "metadata": {},
   "outputs": [],
   "source": [
    "# 임베딩 값 불러오기\n",
    "embedding=np.load('C:/Users/dowoon/Desktop/리영 유사도/embedding_metrix_1.npy')"
   ]
  },
  {
   "cell_type": "code",
   "execution_count": 5,
   "id": "a3ea0cd8",
   "metadata": {},
   "outputs": [
    {
     "data": {
      "text/plain": [
       "array([[[ 1.4593198 ,  0.11443343, -0.6118474 , ..., -0.9748829 ,\n",
       "          0.21348347,  0.5980873 ],\n",
       "        [ 1.1487911 ,  0.32831365, -0.05537921, ..., -0.2772788 ,\n",
       "         -0.08820643,  0.2321483 ],\n",
       "        [ 0.5814154 ,  0.05676644,  0.17004086, ..., -0.19627106,\n",
       "          0.27805322,  0.62268984],\n",
       "        ...,\n",
       "        [ 0.        ,  0.        ,  0.        , ...,  0.        ,\n",
       "          0.        ,  0.        ],\n",
       "        [ 0.        ,  0.        ,  0.        , ...,  0.        ,\n",
       "          0.        ,  0.        ],\n",
       "        [ 0.        ,  0.        ,  0.        , ...,  0.        ,\n",
       "          0.        ,  0.        ]],\n",
       "\n",
       "       [[ 0.5045696 ,  0.16370758,  0.44952714, ..., -0.42486086,\n",
       "          0.19578895,  0.47860295],\n",
       "        [ 0.41227153, -0.10917952,  0.39579263, ..., -0.15159266,\n",
       "          0.31917372,  0.36333698],\n",
       "        [ 0.44353372, -0.06878203,  0.3854101 , ..., -0.36117232,\n",
       "          0.2628429 ,  0.33912316],\n",
       "        ...,\n",
       "        [ 0.        ,  0.        ,  0.        , ...,  0.        ,\n",
       "          0.        ,  0.        ],\n",
       "        [ 0.        ,  0.        ,  0.        , ...,  0.        ,\n",
       "          0.        ,  0.        ],\n",
       "        [ 0.        ,  0.        ,  0.        , ...,  0.        ,\n",
       "          0.        ,  0.        ]],\n",
       "\n",
       "       [[ 0.87155545,  0.06117322,  0.4543261 , ..., -0.7477633 ,\n",
       "          0.34947178, -0.7623243 ],\n",
       "        [ 0.6365559 ,  0.0659387 ,  0.29644132, ..., -0.6986726 ,\n",
       "          0.3302193 , -0.66343653],\n",
       "        [ 0.6980479 ,  0.15081012,  0.6429732 , ..., -1.0035732 ,\n",
       "          0.49635252, -0.80099875],\n",
       "        ...,\n",
       "        [ 0.        ,  0.        ,  0.        , ...,  0.        ,\n",
       "          0.        ,  0.        ],\n",
       "        [ 0.        ,  0.        ,  0.        , ...,  0.        ,\n",
       "          0.        ,  0.        ],\n",
       "        [ 0.        ,  0.        ,  0.        , ...,  0.        ,\n",
       "          0.        ,  0.        ]],\n",
       "\n",
       "       ...,\n",
       "\n",
       "       [[ 0.46631974,  0.25291973,  0.36713403, ..., -0.6314103 ,\n",
       "          0.21038827,  0.77863157],\n",
       "        [ 0.37524763,  0.2011896 ,  0.42929596, ..., -0.6447662 ,\n",
       "          0.27071762,  0.81943935],\n",
       "        [ 0.11224271,  0.19995892,  0.4242442 , ..., -0.8587289 ,\n",
       "          0.1626608 ,  0.52944785],\n",
       "        ...,\n",
       "        [ 0.        ,  0.        ,  0.        , ...,  0.        ,\n",
       "          0.        ,  0.        ],\n",
       "        [ 0.        ,  0.        ,  0.        , ...,  0.        ,\n",
       "          0.        ,  0.        ],\n",
       "        [ 0.        ,  0.        ,  0.        , ...,  0.        ,\n",
       "          0.        ,  0.        ]],\n",
       "\n",
       "       [[ 0.3153541 , -0.61052746,  1.207658  , ..., -0.52097183,\n",
       "          0.39455438, -0.4557652 ],\n",
       "        [ 0.2572595 , -0.7581953 ,  1.5224795 , ..., -0.9281184 ,\n",
       "          0.4142831 , -0.3315299 ],\n",
       "        [-0.1609006 , -0.171025  ,  1.6380625 , ..., -0.51629543,\n",
       "         -0.42343187, -0.51304096],\n",
       "        ...,\n",
       "        [ 0.        ,  0.        ,  0.        , ...,  0.        ,\n",
       "          0.        ,  0.        ],\n",
       "        [ 0.        ,  0.        ,  0.        , ...,  0.        ,\n",
       "          0.        ,  0.        ],\n",
       "        [ 0.        ,  0.        ,  0.        , ...,  0.        ,\n",
       "          0.        ,  0.        ]],\n",
       "\n",
       "       [[ 0.9957949 , -0.61612046,  0.06743268, ..., -1.0330809 ,\n",
       "          0.11616793,  0.21030934],\n",
       "        [ 1.245862  , -0.6093772 ,  0.32416198, ..., -1.0171288 ,\n",
       "          0.12878105,  0.1836223 ],\n",
       "        [ 1.3099715 , -0.6581289 ,  0.17833906, ..., -0.7478742 ,\n",
       "         -0.01013142,  0.04757387],\n",
       "        ...,\n",
       "        [ 0.        ,  0.        ,  0.        , ...,  0.        ,\n",
       "          0.        ,  0.        ],\n",
       "        [ 0.        ,  0.        ,  0.        , ...,  0.        ,\n",
       "          0.        ,  0.        ],\n",
       "        [ 0.        ,  0.        ,  0.        , ...,  0.        ,\n",
       "          0.        ,  0.        ]]], dtype=float32)"
      ]
     },
     "execution_count": 5,
     "metadata": {},
     "output_type": "execute_result"
    }
   ],
   "source": [
    "embedding"
   ]
  },
  {
   "cell_type": "code",
   "execution_count": 4,
   "id": "0c73efc7",
   "metadata": {},
   "outputs": [],
   "source": [
    "# similarity learning을 진행하기 위한 데이터 셋 만들기\n",
    "class CSV_dataset():\n",
    "    def __init__(self, label_df, person_doc_dict, embedding):\n",
    "        super(CSV_dataset, self).__init__()\n",
    "        self.label_df = label_df\n",
    "        self.person_doc_dict = person_doc_dict\n",
    "        self.embedding = embedding\n",
    "    def __getitem__(self, item):\n",
    "        person_1 = self.label_df.iloc[item, 0]\n",
    "        person_2 = self.label_df.iloc[item, 1]\n",
    "        person_1_id=self.person_doc_dict[person_1]\n",
    "        person_2_id=self.person_doc_dict[person_2]\n",
    "        person_1_vec =self.embedding[person_1_id]\n",
    "        person_2_vec =self.embedding[person_2_id]\n",
    "        similarity = self.label_df.iloc[item, 2]\n",
    "        \n",
    "        return person_1_vec, person_2_vec, similarity\n",
    "    def __len__(self):\n",
    "        return len(self.label_df)"
   ]
  },
  {
   "cell_type": "code",
   "execution_count": 6,
   "id": "b38d2075",
   "metadata": {},
   "outputs": [],
   "source": [
    "# specify the shape of the inputs for our network\n",
    "IMG_SHAPE = (480, 128)\n",
    "# specify the batch size and number of epochs\n",
    "BATCH_SIZE = 64\n",
    "EPOCHS = 100\n",
    "# define the path to the base output directory\n",
    "BASE_OUTPUT = \"output\"\n",
    "\n",
    "MODEL_PATH = os.path.sep.join([BASE_OUTPUT,\n",
    "\t\"contrastive_siamese_model\"])\n",
    "PLOT_PATH = os.path.sep.join([BASE_OUTPUT,\n",
    "\t\"contrastive_plot.png\"])"
   ]
  },
  {
   "cell_type": "code",
   "execution_count": 7,
   "id": "6ca1d28c",
   "metadata": {},
   "outputs": [],
   "source": [
    "# 두 환자의 representation vector를 얻기위한 model 생성\n",
    "def build_siamese_model(inputShape):\n",
    "    inputs = Input(inputShape)\n",
    "    x = Conv1D(64, 10, padding=\"same\", activation=\"relu\",kernel_regularizer = regularizers.l2(0.001))(inputs)\n",
    "    x = BatchNormalization()(x)\n",
    "    x = MaxPooling1D()(x)\n",
    "    x = Dropout(0.3)(x)\n",
    "    \n",
    "    x = Conv1D(64, 7, padding=\"same\", activation=\"relu\",kernel_regularizer = regularizers.l2(0.001))(inputs)\n",
    "    x = BatchNormalization()(x)\n",
    "    x = MaxPooling1D()(x)\n",
    "    x = Dropout(0.3)(x)\n",
    "    \n",
    "    x = Conv1D(64, 5, padding=\"same\", activation=\"relu\",kernel_regularizer = regularizers.l2(0.001))(inputs)\n",
    "    x = BatchNormalization()(x)\n",
    "    x = MaxPooling1D()(x)\n",
    "    x = Dropout(0.3)(x)\n",
    "    \n",
    "    x = Conv1D(128, 10, padding=\"same\", activation=\"relu\",kernel_regularizer = regularizers.l2(0.001))(x)\n",
    "    x = BatchNormalization()(x)\n",
    "    x = MaxPooling1D( )(x)\n",
    "    x = Dropout(0.3)(x)\n",
    "    \n",
    "\n",
    "    x = Conv1D(128, 7, padding=\"same\", activation=\"relu\",kernel_regularizer = regularizers.l2(0.001))(x)\n",
    "    x = BatchNormalization()(x)\n",
    "    x = MaxPooling1D()(x)\n",
    "    x = Dropout(0.3)(x)\n",
    "    \n",
    "    x = Conv1D(128, 5, padding=\"same\", activation=\"relu\",kernel_regularizer = regularizers.l2(0.001))(x)\n",
    "    x = BatchNormalization()(x)\n",
    "    x = MaxPooling1D()(x)\n",
    "    x = Dropout(0.3)(x)\n",
    "    \n",
    "    x = Conv1D(128, 5, padding=\"same\", activation=\"relu\",kernel_regularizer = regularizers.l2(0.001))(x)\n",
    "    x = BatchNormalization()(x)\n",
    "    x = MaxPooling1D()(x)\n",
    "    x = Dropout(0.3)(x)\n",
    "\n",
    "    \n",
    "    outputs = Flatten()(x)\n",
    "    model = Model(inputs, outputs)\n",
    "    return model"
   ]
  },
  {
   "cell_type": "code",
   "execution_count": 8,
   "id": "249ecdfe",
   "metadata": {},
   "outputs": [],
   "source": [
    "# 두 vactor 사이에 L2 거리구하기\n",
    "def euclidean_distance(vectors):\n",
    "    # unpack the vectors into separate lists\n",
    "    (featsA, featsB) = vectors\n",
    "    # compute the sum of squared distances between the vectors\n",
    "    sumSquared = K.sum(K.square(featsA - featsB), axis=1,\n",
    "        keepdims=True)\n",
    "    # return the euclidean distance between the vectors\n",
    "    return K.sqrt(K.maximum(sumSquared, K.epsilon()))"
   ]
  },
  {
   "cell_type": "code",
   "execution_count": 9,
   "id": "52e9d012",
   "metadata": {},
   "outputs": [],
   "source": [
    "# loss fuction 만들기\n",
    "def contrastive_loss(y, preds, margin=1):\n",
    "    y = tf.cast(y, preds.dtype)\n",
    "    squaredPreds = K.square(preds)\n",
    "    squaredMargin = K.square(K.maximum(margin - preds, 0))\n",
    "    loss = K.mean(y * squaredPreds + (1 - y) * squaredMargin)\n",
    "    return loss"
   ]
  },
  {
   "cell_type": "code",
   "execution_count": 10,
   "id": "1e1dfa4f",
   "metadata": {},
   "outputs": [],
   "source": [
    "imgA = Input(shape=IMG_SHAPE)\n",
    "imgB = Input(shape=IMG_SHAPE)\n",
    "# Feature vector 만들기\n",
    "featureExtractor = build_siamese_model(IMG_SHAPE)\n",
    "featsA = featureExtractor(imgA)\n",
    "featsB = featureExtractor(imgB)\n",
    "\n",
    "# 두 feature vector간 거리구하기\n",
    "distance = Lambda(euclidean_distance)([featsA,featsB])\n",
    "model = Model(inputs=[imgA, imgB], outputs=distance)"
   ]
  },
  {
   "cell_type": "code",
   "execution_count": 11,
   "id": "73d93806",
   "metadata": {},
   "outputs": [
    {
     "name": "stdout",
     "output_type": "stream",
     "text": [
      "[INFO] compiling model...\n"
     ]
    }
   ],
   "source": [
    "print(\"[INFO] compiling model...\")\n",
    "opt = keras.optimizers.Adam(learning_rate = 0.001)\n",
    "model.compile(loss=contrastive_loss, optimizer=opt)\n",
    "from keras.models import load_model\n",
    "model.load_weights(\"C:/Users/dowoon/Desktop/유사도 프로젝트/project/sam_model.h5\")"
   ]
  },
  {
   "cell_type": "code",
   "execution_count": 26,
   "id": "13ae669f",
   "metadata": {},
   "outputs": [],
   "source": [
    "data = pd.read_csv('C:/Users/dowoon/Desktop/유사도 프로젝트/project1/final_label.csv')"
   ]
  },
  {
   "cell_type": "code",
   "execution_count": 27,
   "id": "d53dc223",
   "metadata": {},
   "outputs": [],
   "source": [
    "# empty 즉 합병증이 없는 환자 0으로 채우기\n",
    "data=data.fillna(0)"
   ]
  },
  {
   "cell_type": "code",
   "execution_count": 28,
   "id": "2fbfb764",
   "metadata": {},
   "outputs": [],
   "source": [
    "# cluster 만들기 0번 cluster는 모든 합병증이 없는 클러스터이고 나머지 cluster는 각 cluster의 합병증이 존지하는 환자들을 배치함\n",
    "cluster0=data[data['FOOT'] == 0]\n",
    "for i in ['MULTI','HYP','KDY','NEURO','HRT','STK']:\n",
    "    cluster0=cluster0[cluster0[i] == 0]\n",
    "cluster1=data[data['FOOT'] == 1]\n",
    "cluster2=data[data['MULTI'] == 1]\n",
    "cluster3=data[data['HYP'] == 1]\n",
    "cluster4=data[data['KDY'] == 1]\n",
    "cluster5=data[data['NEURO'] == 1]\n",
    "cluster6=data[data['HRT'] == 1]\n",
    "cluster7=data[data['STK'] == 1]"
   ]
  },
  {
   "cell_type": "code",
   "execution_count": 29,
   "id": "03b21c44",
   "metadata": {},
   "outputs": [],
   "source": [
    "# 각 cluster 별 100명씩 sampling함\n",
    "cluster0=cluster0.sample(n = 100)\n",
    "cluster1=cluster1.sample(n = 100)\n",
    "cluster2=cluster2.sample(n = 100)\n",
    "cluster3=cluster3.sample(n = 100)\n",
    "cluster4=cluster4.sample(n = 100)\n",
    "cluster5=cluster5.sample(n = 100)\n",
    "cluster6=cluster6.sample(n = 100)\n",
    "cluster7=cluster7.sample(n = 100)"
   ]
  },
  {
   "cell_type": "code",
   "execution_count": 30,
   "id": "280c3f43",
   "metadata": {},
   "outputs": [],
   "source": [
    "cluster0=cluster0['PERSON_ID'].tolist()\n",
    "cluster1=cluster1['PERSON_ID'].tolist()\n",
    "cluster2=cluster2['PERSON_ID'].tolist()\n",
    "cluster3=cluster3['PERSON_ID'].tolist()\n",
    "cluster4=cluster4['PERSON_ID'].tolist()\n",
    "cluster5=cluster5['PERSON_ID'].tolist()\n",
    "cluster6=cluster6['PERSON_ID'].tolist()\n",
    "cluster7=cluster7['PERSON_ID'].tolist()"
   ]
  },
  {
   "cell_type": "code",
   "execution_count": 31,
   "id": "dcc08972",
   "metadata": {},
   "outputs": [],
   "source": [
    "cluster=[cluster0,cluster1,cluster2,cluster3,cluster4,cluster5,cluster6,cluster7]"
   ]
  },
  {
   "cell_type": "code",
   "execution_count": 32,
   "id": "71978f06",
   "metadata": {},
   "outputs": [],
   "source": [
    "# cluser의 환자들의 환자 id에서 환자의 embedding 값으로 바꿈\n",
    "clu_em = []\n",
    "for clu in cluster:\n",
    "    embe =[]\n",
    "    for person_id in clu:\n",
    "        person_1_id=person_doc_dict[person_id]\n",
    "        person_vec = embedding[person_1_id]\n",
    "        embe.append(person_vec)\n",
    "    clu_em.append(embe)"
   ]
  },
  {
   "cell_type": "code",
   "execution_count": 33,
   "id": "b97935e4",
   "metadata": {},
   "outputs": [],
   "source": [
    "# clustering 할 데이터 선택\n",
    "a=data['PERSON_ID'].sample(n = 100)\n",
    "per_test=a.tolist()"
   ]
  },
  {
   "cell_type": "code",
   "execution_count": 34,
   "id": "8f1061c3",
   "metadata": {},
   "outputs": [],
   "source": [
    "# clustering 할 데이터 embedding값으로 바꾸기\n",
    "test_per = []\n",
    "for person_id in per_test:\n",
    "    test = []\n",
    "    person_1_id=person_doc_dict[person_id]\n",
    "    person_vec = embedding[person_1_id]\n",
    "    for _ in range(100):\n",
    "        test.append(person_vec)\n",
    "    test_per.append(test)"
   ]
  },
  {
   "cell_type": "code",
   "execution_count": 35,
   "id": "8b2535ad",
   "metadata": {},
   "outputs": [],
   "source": [
    "# 각 데이터별 결과값 (두 데이터사이의 거리)\n",
    "result = []\n",
    "for test in test_per:\n",
    "    re = []\n",
    "    for clu in clu_em:\n",
    "        clu = np.array(clu)\n",
    "        test = np.array(test)\n",
    "        pre=model.predict([clu,test])\n",
    "        re.append(pre)\n",
    "    result.append(re)"
   ]
  },
  {
   "cell_type": "code",
   "execution_count": 36,
   "id": "781ed2ea",
   "metadata": {},
   "outputs": [],
   "source": [
    "# 가장 많은 값 구하기\n",
    "from collections import Counter\n",
    "def most_common_top_1(candidates):\n",
    "    assert isinstance(candidates, list)\n",
    "    if len(candidates) == 0: return None\n",
    "    return Counter(candidates).most_common(n=1)[0][0]"
   ]
  },
  {
   "cell_type": "code",
   "execution_count": 37,
   "id": "46fe3028",
   "metadata": {},
   "outputs": [],
   "source": [
    "# KNN 클러스터링 기법을 이용함 \n",
    "final_cluster = []\n",
    "for test in result:\n",
    "    clumin = []\n",
    "    clu_list = []\n",
    "    for clu in test:\n",
    "        for i in clu:\n",
    "            clu_list.append(clu[0])\n",
    "    so = sorted(clu_list)\n",
    "    so_list=[]\n",
    "    for i in range(10):\n",
    "        so_list.append(so[i])\n",
    "    final_list =[]\n",
    "    for so in so_list:\n",
    "        for i in so:\n",
    "            clu = clu_list.index(i) \n",
    "        clu = int((clu+1)//100)\n",
    "        final_list.append(clu)\n",
    "    clu=most_common_top_1(final_list)\n",
    "    final_cluster.append(clu)"
   ]
  },
  {
   "cell_type": "code",
   "execution_count": 51,
   "id": "2c5f9b6b",
   "metadata": {},
   "outputs": [
    {
     "name": "stdout",
     "output_type": "stream",
     "text": [
      "0.53\n"
     ]
    }
   ],
   "source": [
    "# clustering 결과값 보기\n",
    "counts = 0\n",
    "for per_id,clu in zip(per_test,final_cluster):\n",
    "    x=data[data['PERSON_ID'] == per_id]\n",
    "    if x.iloc[:,3+clu].values == 1:\n",
    "        counts+=1\n",
    "    elif (x.iloc[:,4].values ==\n",
    "          clu) and (x.iloc[:,5].values == clu) and (x.iloc[:,6].values == clu) and (x.iloc[:,7].values == clu) and (x.iloc[:,8].values == clu) and (x.iloc[:,9].values == clu) and (x.iloc[:,10].values == clu):\n",
    "        counts += 1\n",
    "print(counts/100)"
   ]
  },
  {
   "cell_type": "code",
   "execution_count": 41,
   "id": "22ced449",
   "metadata": {},
   "outputs": [
    {
     "name": "stdout",
     "output_type": "stream",
     "text": [
      "0.19\n"
     ]
    }
   ],
   "source": [
    "# random으로 했을때 결과값 보기\n",
    "import random\n",
    "ran_cluster = []\n",
    "for _ in range(100):\n",
    "    a = random.randint(0,7)\n",
    "    ran_cluster.append(a)\n",
    "count = 0\n",
    "\n",
    "for per_id,clu in zip(per_test,ran_cluster):\n",
    "    x=data[data['PERSON_ID'] == per_id]\n",
    "    if x.iloc[:,3+clu].values == 1:\n",
    "        count+=1\n",
    "    elif (x.iloc[:,4].values == clu) and (x.iloc[:,5].values == clu) and (x.iloc[:,6].values == clu) and (x.iloc[:,7].values == clu) and (x.iloc[:,8].values == clu) and (x.iloc[:,9].values == clu) and (x.iloc[:,10].values == clu):\n",
    "        count += 1\n",
    "print(count/100)"
   ]
  },
  {
   "cell_type": "code",
   "execution_count": 47,
   "id": "5ec9de6e",
   "metadata": {},
   "outputs": [],
   "source": [
    "df=pd.DataFrame({'person_id':per_test,'Cluster':final_cluster})"
   ]
  },
  {
   "cell_type": "code",
   "execution_count": 50,
   "id": "465f1c04",
   "metadata": {},
   "outputs": [],
   "source": [
    "df.to_csv('C:/Users/dowoon/Desktop/리영 유사도/final_cluster.csv')"
   ]
  },
  {
   "cell_type": "code",
   "execution_count": 52,
   "id": "ff4a6189",
   "metadata": {},
   "outputs": [],
   "source": [
    "import matplotlib.pyplot as plt"
   ]
  },
  {
   "cell_type": "code",
   "execution_count": 56,
   "id": "1980eccc",
   "metadata": {},
   "outputs": [
    {
     "data": {
      "image/png": "[encoded data removed]",
      "text/plain": [
       "<Figure size 432x288 with 1 Axes>"
      ]
     },
     "metadata": {
      "needs_background": "light"
     },
     "output_type": "display_data"
    }
   ],
   "source": [
    "# clustering 결과 비교\n",
    "index = ['Random','proposed_model']\n",
    "value = [count,counts]\n",
    "plt.bar(index,value)\n",
    "plt.title('Results of Clustering', fontsize=20)\n",
    "plt.xlabel('Method', fontsize=18)\n",
    "plt.ylabel('Probability', fontsize=18)\n",
    "plt.show()\n",
    "\n"
   ]
  },
  {
   "cell_type": "code",
   "execution_count": 62,
   "id": "2b474105",
   "metadata": {},
   "outputs": [],
   "source": [
    "del data['GNL_NM_CD']\n",
    "del data['SICK_SYMnorm']\n",
    "del data['MAIN_ICDnorm']"
   ]
  },
  {
   "cell_type": "code",
   "execution_count": 109,
   "id": "804db8bb",
   "metadata": {},
   "outputs": [
    {
     "data": {
      "text/html": [
       "<div>\n",
       "<style scoped>\n",
       "    .dataframe tbody tr th:only-of-type {\n",
       "        vertical-align: middle;\n",
       "    }\n",
       "\n",
       "    .dataframe tbody tr th {\n",
       "        vertical-align: top;\n",
       "    }\n",
       "\n",
       "    .dataframe thead th {\n",
       "        text-align: right;\n",
       "    }\n",
       "</style>\n",
       "<table border=\"1\" class=\"dataframe\">\n",
       "  <thead>\n",
       "    <tr style=\"text-align: right;\">\n",
       "      <th></th>\n",
       "      <th>PERSON_ID</th>\n",
       "      <th>FOOT</th>\n",
       "      <th>MULTI</th>\n",
       "      <th>HYP</th>\n",
       "      <th>KDY</th>\n",
       "      <th>NEURO</th>\n",
       "      <th>HRT</th>\n",
       "      <th>STK</th>\n",
       "    </tr>\n",
       "  </thead>\n",
       "  <tbody>\n",
       "    <tr>\n",
       "      <th>35830</th>\n",
       "      <td>57952780</td>\n",
       "      <td>0.0</td>\n",
       "      <td>1.0</td>\n",
       "      <td>1.0</td>\n",
       "      <td>0.0</td>\n",
       "      <td>1.0</td>\n",
       "      <td>0.0</td>\n",
       "      <td>0.0</td>\n",
       "    </tr>\n",
       "    <tr>\n",
       "      <th>7722</th>\n",
       "      <td>18626426</td>\n",
       "      <td>0.0</td>\n",
       "      <td>0.0</td>\n",
       "      <td>0.0</td>\n",
       "      <td>0.0</td>\n",
       "      <td>0.0</td>\n",
       "      <td>0.0</td>\n",
       "      <td>0.0</td>\n",
       "    </tr>\n",
       "    <tr>\n",
       "      <th>49828</th>\n",
       "      <td>77934561</td>\n",
       "      <td>1.0</td>\n",
       "      <td>1.0</td>\n",
       "      <td>0.0</td>\n",
       "      <td>0.0</td>\n",
       "      <td>0.0</td>\n",
       "      <td>0.0</td>\n",
       "      <td>0.0</td>\n",
       "    </tr>\n",
       "    <tr>\n",
       "      <th>49653</th>\n",
       "      <td>77626088</td>\n",
       "      <td>0.0</td>\n",
       "      <td>0.0</td>\n",
       "      <td>0.0</td>\n",
       "      <td>0.0</td>\n",
       "      <td>0.0</td>\n",
       "      <td>0.0</td>\n",
       "      <td>0.0</td>\n",
       "    </tr>\n",
       "    <tr>\n",
       "      <th>50561</th>\n",
       "      <td>79187793</td>\n",
       "      <td>1.0</td>\n",
       "      <td>0.0</td>\n",
       "      <td>0.0</td>\n",
       "      <td>0.0</td>\n",
       "      <td>1.0</td>\n",
       "      <td>0.0</td>\n",
       "      <td>0.0</td>\n",
       "    </tr>\n",
       "    <tr>\n",
       "      <th>...</th>\n",
       "      <td>...</td>\n",
       "      <td>...</td>\n",
       "      <td>...</td>\n",
       "      <td>...</td>\n",
       "      <td>...</td>\n",
       "      <td>...</td>\n",
       "      <td>...</td>\n",
       "      <td>...</td>\n",
       "    </tr>\n",
       "    <tr>\n",
       "      <th>56204</th>\n",
       "      <td>87936954</td>\n",
       "      <td>0.0</td>\n",
       "      <td>0.0</td>\n",
       "      <td>0.0</td>\n",
       "      <td>0.0</td>\n",
       "      <td>0.0</td>\n",
       "      <td>0.0</td>\n",
       "      <td>0.0</td>\n",
       "    </tr>\n",
       "    <tr>\n",
       "      <th>19312</th>\n",
       "      <td>32829228</td>\n",
       "      <td>1.0</td>\n",
       "      <td>0.0</td>\n",
       "      <td>0.0</td>\n",
       "      <td>0.0</td>\n",
       "      <td>0.0</td>\n",
       "      <td>0.0</td>\n",
       "      <td>0.0</td>\n",
       "    </tr>\n",
       "    <tr>\n",
       "      <th>14826</th>\n",
       "      <td>27773510</td>\n",
       "      <td>0.0</td>\n",
       "      <td>1.0</td>\n",
       "      <td>0.0</td>\n",
       "      <td>0.0</td>\n",
       "      <td>0.0</td>\n",
       "      <td>0.0</td>\n",
       "      <td>0.0</td>\n",
       "    </tr>\n",
       "    <tr>\n",
       "      <th>54565</th>\n",
       "      <td>85456150</td>\n",
       "      <td>1.0</td>\n",
       "      <td>0.0</td>\n",
       "      <td>0.0</td>\n",
       "      <td>0.0</td>\n",
       "      <td>0.0</td>\n",
       "      <td>0.0</td>\n",
       "      <td>0.0</td>\n",
       "    </tr>\n",
       "    <tr>\n",
       "      <th>6260</th>\n",
       "      <td>16973825</td>\n",
       "      <td>0.0</td>\n",
       "      <td>0.0</td>\n",
       "      <td>0.0</td>\n",
       "      <td>0.0</td>\n",
       "      <td>0.0</td>\n",
       "      <td>0.0</td>\n",
       "      <td>0.0</td>\n",
       "    </tr>\n",
       "  </tbody>\n",
       "</table>\n",
       "<p>100 rows × 8 columns</p>\n",
       "</div>"
      ],
      "text/plain": [
       "       PERSON_ID  FOOT  MULTI  HYP  KDY  NEURO  HRT  STK\n",
       "35830   57952780   0.0    1.0  1.0  0.0    1.0  0.0  0.0\n",
       "7722    18626426   0.0    0.0  0.0  0.0    0.0  0.0  0.0\n",
       "49828   77934561   1.0    1.0  0.0  0.0    0.0  0.0  0.0\n",
       "49653   77626088   0.0    0.0  0.0  0.0    0.0  0.0  0.0\n",
       "50561   79187793   1.0    0.0  0.0  0.0    1.0  0.0  0.0\n",
       "...          ...   ...    ...  ...  ...    ...  ...  ...\n",
       "56204   87936954   0.0    0.0  0.0  0.0    0.0  0.0  0.0\n",
       "19312   32829228   1.0    0.0  0.0  0.0    0.0  0.0  0.0\n",
       "14826   27773510   0.0    1.0  0.0  0.0    0.0  0.0  0.0\n",
       "54565   85456150   1.0    0.0  0.0  0.0    0.0  0.0  0.0\n",
       "6260    16973825   0.0    0.0  0.0  0.0    0.0  0.0  0.0\n",
       "\n",
       "[100 rows x 8 columns]"
      ]
     },
     "execution_count": 109,
     "metadata": {},
     "output_type": "execute_result"
    }
   ],
   "source": [
    "data.sample(n = 100)"
   ]
  },
  {
   "cell_type": "code",
   "execution_count": 118,
   "id": "67f81b75",
   "metadata": {},
   "outputs": [
    {
     "data": {
      "text/plain": [
       "array([[0.71851045]], dtype=float32)"
      ]
     },
     "execution_count": 118,
     "metadata": {},
     "output_type": "execute_result"
    }
   ],
   "source": [
    "\n",
    "person_1_id=person_doc_dict[87936954]\n",
    "person_vec_1 = embedding[person_1_id]\n",
    "person_vec_1 = np.array([person_vec_1])\n",
    "\n",
    "person_2_id=person_doc_dict[32829228]\n",
    "person_vec_2 = embedding[person_2_id]\n",
    "person_vec_2 = np.array([person_vec_2])\n",
    "\n",
    "model.predict([person_vec_1,person_vec_2])"
   ]
  },
  {
   "cell_type": "code",
   "execution_count": 87,
   "id": "0024d9d2",
   "metadata": {},
   "outputs": [
    {
     "data": {
      "text/plain": [
       "array([[ 0.31409794, -0.11088192,  0.025798  , ..., -0.33310983,\n",
       "         0.21922897,  0.22704141],\n",
       "       [ 0.28060517, -0.11564828, -0.02964489, ..., -0.21312429,\n",
       "         0.15467432,  0.25061962],\n",
       "       [ 0.35369354, -0.0203701 ,  0.07824197, ..., -0.3391111 ,\n",
       "         0.22446765,  0.3074849 ],\n",
       "       ...,\n",
       "       [ 0.        ,  0.        ,  0.        , ...,  0.        ,\n",
       "         0.        ,  0.        ],\n",
       "       [ 0.        ,  0.        ,  0.        , ...,  0.        ,\n",
       "         0.        ,  0.        ],\n",
       "       [ 0.        ,  0.        ,  0.        , ...,  0.        ,\n",
       "         0.        ,  0.        ]], dtype=float32)"
      ]
     },
     "execution_count": 87,
     "metadata": {},
     "output_type": "execute_result"
    }
   ],
   "source": [
    "person_vec_1"
   ]
  },
  {
   "cell_type": "code",
   "execution_count": null,
   "id": "bf8c91ec",
   "metadata": {},
   "outputs": [],
   "source": []
  }
 ],
 "metadata": {
  "kernelspec": {
   "display_name": "Python 3",
   "language": "python",
   "name": "python3"
  },
  "language_info": {
   "codemirror_mode": {
    "name": "ipython",
    "version": 3
   },
   "file_extension": ".py",
   "mimetype": "text/x-python",
   "name": "python",
   "nbconvert_exporter": "python",
   "pygments_lexer": "ipython3",
   "version": "3.8.8"
  }
 },
 "nbformat": 4,
 "nbformat_minor": 5
}
