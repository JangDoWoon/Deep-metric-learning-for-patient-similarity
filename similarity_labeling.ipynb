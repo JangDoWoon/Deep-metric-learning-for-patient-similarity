{
 "cells": [
  {
   "cell_type": "code",
   "execution_count": 1,
   "metadata": {},
   "outputs": [],
   "source": [
    "import pandas as pd\n",
    "from gensim.test.utils import common_texts\n",
    "from gensim.models.doc2vec import Doc2Vec, TaggedDocument\n",
    "import collections\n",
    "from gensim.models import doc2vec\n",
    "from sklearn.model_selection import train_test_split\n",
    "import concurrent.futures"
   ]
  },
  {
   "cell_type": "code",
   "execution_count": 2,
   "metadata": {},
   "outputs": [],
   "source": [
    "data = pd.read_csv('C:/Users/dowoon/Desktop/유사도 프로젝트/project1/final_label.csv')\n"
   ]
  },
  {
   "cell_type": "code",
   "execution_count": 3,
   "metadata": {},
   "outputs": [],
   "source": [
    "data=data[['PERSON_ID','FOOT','MULTI','HYP','KDY','NEURO','HRT','STK']]"
   ]
  },
  {
   "cell_type": "code",
   "execution_count": 4,
   "metadata": {},
   "outputs": [],
   "source": [
    "data=data.fillna(0)"
   ]
  },
  {
   "cell_type": "code",
   "execution_count": 5,
   "metadata": {},
   "outputs": [],
   "source": [
    "from tqdm import tqdm_notebook\n",
    "import random\n",
    "from itertools import combinations\n",
    "person=data.PERSON_ID.tolist()\n",
    "count=1000\n",
    "pairs=[]\n",
    "# person id 쌍을 랜덤으로 뽑기\n",
    "all_df = pd.DataFrame()\n",
    "for i in range(count):\n",
    "    person_1=random.choice(person)\n",
    "    person_2=random.choice(person)\n",
    "    pairs.append([person_1,person_2])\n",
    "j = 0\n",
    "# 합병증이 모두 없거나 하나라도 같은 합병증이 존재하면 유사하다 가정\n",
    "for i in range(len(pairs)):\n",
    "    p1=pairs[i][0]\n",
    "    p2=pairs[i][1]\n",
    "    p1_icd=data[data.PERSON_ID==p1][['FOOT','MULTI','HYP','KDY','NEURO','HRT','STK']]\n",
    "    p2_icd=data[data.PERSON_ID==p2][['FOOT','MULTI','HYP','KDY','NEURO','HRT','STK']]\n",
    "    \n",
    "    \n",
    "    if (p1_icd['FOOT'].values == 1) and (p2_icd['FOOT'].values == 1):\n",
    "        sim = 1\n",
    "    elif (p1_icd['MULTI'].values == 1) and (p2_icd['MULTI'].values == 1):\n",
    "        sim = 1\n",
    "    elif (p1_icd['HYP'].values == 1) and (p2_icd['HYP'].values == 1):\n",
    "        sim =1\n",
    "    elif (p1_icd['KDY'].values == 1) and (p2_icd['KDY'].values == 1):\n",
    "        sim = 1\n",
    "    elif (p1_icd['NEURO'].values == 1) and (p2_icd['NEURO'].values == 1):\n",
    "        sim = 1\n",
    "    elif (p1_icd['HRT'].values == 1) and (p2_icd['HRT'].values == 1):\n",
    "        sim = 1\n",
    "    elif (p1_icd['STK'].values == 1) and (p1_icd['STK'].values == 1) :\n",
    "        sim = 1\n",
    "    elif (p1_icd['FOOT'].values == 0) and (p1_icd['MULTI'].values == 0)and (p1_icd['HYP'].values == 0) and (p1_icd['KDY'].values == 0) and (p1_icd['NEURO'].values == 0) and (p1_icd['HRT'].values == 0) and (p1_icd['STK'].values == 0) :\n",
    "        if  (p2_icd['FOOT'].values == 0) and (p2_icd['MULTI'].values == 0)and (p2_icd['HYP'].values == 0) and (p2_icd['KDY'].values == 0) and (p2_icd['NEURO'].values == 0) and (p2_icd['HRT'].values == 0) and (p2_icd['STK'].values == 0):\n",
    "            sim = 1\n",
    "        else:\n",
    "            sim = 0\n",
    "    else:\n",
    "        sim = 0\n",
    "    df = pd.DataFrame( {'p1':[p1],'p2':[p2], 'is_sim':[sim]})\n",
    "    all_df = pd.concat([all_df,df],ignore_index = True)\n",
    "\n",
    "    "
   ]
  },
  {
   "cell_type": "code",
   "execution_count": 8,
   "metadata": {},
   "outputs": [],
   "source": [
    "# 유사한 데이터 셋과 유사하지 않은 데이터셋의 크기가 다름으로 동일하게 설정\n",
    "df_1 = all_df[all_df['is_sim']==1].sample(n=100)\n",
    "df_0 = all_df[all_df['is_sim']==0].sample(n=100)"
   ]
  },
  {
   "cell_type": "code",
   "execution_count": 9,
   "metadata": {},
   "outputs": [],
   "source": [
    "all_df = pd.concat([df_0,df_1])"
   ]
  },
  {
   "cell_type": "code",
   "execution_count": 10,
   "metadata": {},
   "outputs": [],
   "source": [
    "all_df.columns=['p1','p2','is_sim']"
   ]
  },
  {
   "cell_type": "code",
   "execution_count": 11,
   "metadata": {},
   "outputs": [],
   "source": [
    "train_label_df,test_label_df=train_test_split(all_df,test_size=0.2,random_state=0,stratify=all_df.is_sim)"
   ]
  },
  {
   "cell_type": "code",
   "execution_count": 99,
   "metadata": {},
   "outputs": [],
   "source": [
    "train_label_df.to_csv('C:/Users/dowoon/Desktop/유사도 프로젝트/project/label_train1.csv',index=False)"
   ]
  },
  {
   "cell_type": "code",
   "execution_count": 100,
   "metadata": {},
   "outputs": [],
   "source": [
    "test_label_df.to_csv('C:/Users/dowoon/Desktop/유사도 프로젝트/project/label_test1.csv',index=False)"
   ]
  },
  {
   "cell_type": "code",
   "execution_count": null,
   "metadata": {},
   "outputs": [],
   "source": []
  }
 ],
 "metadata": {
  "kernelspec": {
   "display_name": "Python 3",
   "language": "python",
   "name": "python3"
  },
  "language_info": {
   "codemirror_mode": {
    "name": "ipython",
    "version": 3
   },
   "file_extension": ".py",
   "mimetype": "text/x-python",
   "name": "python",
   "nbconvert_exporter": "python",
   "pygments_lexer": "ipython3",
   "version": "3.8.8"
  }
 },
 "nbformat": 4,
 "nbformat_minor": 2
}
