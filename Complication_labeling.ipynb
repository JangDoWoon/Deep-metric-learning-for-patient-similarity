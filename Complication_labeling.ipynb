{
 "cells": [
  {
   "cell_type": "code",
   "execution_count": 1,
   "metadata": {},
   "outputs": [],
   "source": [
    "# 라이브러리\n",
    "import pandas as pd\n",
    "import os\n",
    "import glob\n",
    "import matplotlib.pyplot as plt\n",
    "from collections import defaultdict\n",
    "import numpy as np "
   ]
  },
  {
   "cell_type": "code",
   "execution_count": 2,
   "metadata": {},
   "outputs": [],
   "source": [
    "data=pd.read_csv('C:/Users/dowoon/Desktop/리영 유사도/all_after_filter.csv')"
   ]
  },
  {
   "cell_type": "code",
   "execution_count": 3,
   "metadata": {},
   "outputs": [],
   "source": [
    "# 날짜별로 정렬\n",
    "data.sort_values('RECU_FR_DT',inplace=True)"
   ]
  },
  {
   "cell_type": "code",
   "execution_count": 5,
   "metadata": {
    "scrolled": true
   },
   "outputs": [],
   "source": [
    "data['AGE_GROUP'] = data['AGE_GROUP'].astype('str')"
   ]
  },
  {
   "cell_type": "code",
   "execution_count": 7,
   "metadata": {},
   "outputs": [],
   "source": [
    "def f(x):\n",
    "    return pd.Series(dict(\n",
    "        GNL_NM_CD=\"%s\" % ','.join(x['GNL_NM_CD']),\n",
    "        SICK_SYMnorm =\"%s\" % ','.join(x['SICK_SYMnorm']),\n",
    "        RECU_FR_DT=\"%s\" % ','.join(x['RECU_FR_DT'].astype('str')),\n",
    "        MAIN_ICDnorm=\"%s\" % ','.join(x['MAIN_ICDnorm']))\n",
    "                    )"
   ]
  },
  {
   "cell_type": "code",
   "execution_count": 8,
   "metadata": {},
   "outputs": [],
   "source": [
    "features=['PERSON_ID', 'SEX', 'AGE_GROUP', 'MAIN_ICDnorm','GNL_NM_CD','SICK_SYMnorm','RECU_FR_DT']\n",
    "groupy_features=['PERSON_ID']\n",
    "other_features=list(set(features)-set(groupy_features))\n",
    "data_groupy=data.groupby(groupy_features)[other_features].apply(f).reset_index()"
   ]
  },
  {
   "cell_type": "code",
   "execution_count": 9,
   "metadata": {},
   "outputs": [],
   "source": [
    "data_groupy['RECU_FR_DT']=data_groupy['RECU_FR_DT'].map(lambda x: x.split(','))\n",
    "data_groupy['MAIN_ICDnorm']=data_groupy['MAIN_ICDnorm'].map(lambda x: x.split(','))\n",
    "data_groupy['SICK_SYMnorm']=data_groupy['SICK_SYMnorm'].map(lambda x: x.split(','))\n",
    "data_groupy['GNL_NM_CD']=data_groupy['GNL_NM_CD'].map(lambda x: x.split(','))\n",
    "# data_groupy['AGE_GROUP']=data_groupy['AGE_GROUP'].map(lambda x: x.split(','))"
   ]
  },
  {
   "cell_type": "code",
   "execution_count": 10,
   "metadata": {},
   "outputs": [],
   "source": [
    "def unique_seq(l1):\n",
    "    l2 = list(set(l1))\n",
    "    l2.sort(key=l1.index)\n",
    "    return l2"
   ]
  },
  {
   "cell_type": "code",
   "execution_count": 11,
   "metadata": {},
   "outputs": [],
   "source": [
    "data_groupy['RECU_FR_DT']=data_groupy['RECU_FR_DT'].map(unique_seq)\n",
    "data_groupy['MAIN_ICDnorm']=data_groupy['MAIN_ICDnorm'].map(unique_seq)\n",
    "data_groupy['SICK_SYMnorm']=data_groupy['SICK_SYMnorm'].map(unique_seq)\n",
    "data_groupy['GNL_NM_CD']=data_groupy['GNL_NM_CD'].map(unique_seq)\n",
    "# data_groupy['AGE_GROUP']=data_groupy['AGE_GROUP'].map(unique_seq)"
   ]
  },
  {
   "cell_type": "code",
   "execution_count": 12,
   "metadata": {},
   "outputs": [],
   "source": [
    "def list_to_str(data):\n",
    "    features=['RECU_FR_DT','MAIN_ICDnorm','SICK_SYMnorm','GNL_NM_CD']\n",
    "    for feature in features:\n",
    "        data[feature]=data[feature].map(lambda x: ','.join(x))"
   ]
  },
  {
   "cell_type": "code",
   "execution_count": 13,
   "metadata": {},
   "outputs": [],
   "source": [
    "list_to_str(data_groupy)"
   ]
  },
  {
   "cell_type": "code",
   "execution_count": 14,
   "metadata": {},
   "outputs": [],
   "source": [
    "data_groupy.drop(columns=['RECU_FR_DT'],inplace=True)"
   ]
  },
  {
   "cell_type": "code",
   "execution_count": 15,
   "metadata": {
    "scrolled": true
   },
   "outputs": [
    {
     "data": {
      "text/html": [
       "<div>\n",
       "<style scoped>\n",
       "    .dataframe tbody tr th:only-of-type {\n",
       "        vertical-align: middle;\n",
       "    }\n",
       "\n",
       "    .dataframe tbody tr th {\n",
       "        vertical-align: top;\n",
       "    }\n",
       "\n",
       "    .dataframe thead th {\n",
       "        text-align: right;\n",
       "    }\n",
       "</style>\n",
       "<table border=\"1\" class=\"dataframe\">\n",
       "  <thead>\n",
       "    <tr style=\"text-align: right;\">\n",
       "      <th></th>\n",
       "      <th>PERSON_ID</th>\n",
       "      <th>GNL_NM_CD</th>\n",
       "      <th>SICK_SYMnorm</th>\n",
       "      <th>MAIN_ICDnorm</th>\n",
       "    </tr>\n",
       "  </thead>\n",
       "  <tbody>\n",
       "    <tr>\n",
       "      <th>0</th>\n",
       "      <td>10000755</td>\n",
       "      <td>177303ATB,157703ATR,191503ATB,470901ATB,165001...</td>\n",
       "      <td>I100,E115,E785,E780,I109,E781,E782,E119,E079,K...</td>\n",
       "      <td>E115,E119,E149,E148</td>\n",
       "    </tr>\n",
       "    <tr>\n",
       "      <th>1</th>\n",
       "      <td>10003063</td>\n",
       "      <td>165702ATB,133301ATB,144001ATB,131801ATB,150001...</td>\n",
       "      <td>E110,I209,N088,I709,B178,D508,E781,J041,K599,K...</td>\n",
       "      <td>E119,E114</td>\n",
       "    </tr>\n",
       "    <tr>\n",
       "      <th>2</th>\n",
       "      <td>10005849</td>\n",
       "      <td>191502ATB,191501ATB,461801BIJ,421001ATB,430101...</td>\n",
       "      <td>E109,E119,E789,E104,K296,K279,J000,R120,E139,T232</td>\n",
       "      <td>E109,E119,E104,E139</td>\n",
       "    </tr>\n",
       "    <tr>\n",
       "      <th>3</th>\n",
       "      <td>10006702</td>\n",
       "      <td>515201ATB,100602ATB,101404ATB,295600ATB,474300...</td>\n",
       "      <td>L500,K277,M544,E785,E119,K300,I100,K529,H814,G...</td>\n",
       "      <td>E119,E118,E114</td>\n",
       "    </tr>\n",
       "    <tr>\n",
       "      <th>4</th>\n",
       "      <td>10009199</td>\n",
       "      <td>180301ATB,201801ATB,165702ATB,250501ATB,243501...</td>\n",
       "      <td>I100,G470,E100,R520,E139,J069,E135,J030,E110,L...</td>\n",
       "      <td>E109,E139,E135,E119</td>\n",
       "    </tr>\n",
       "    <tr>\n",
       "      <th>...</th>\n",
       "      <td>...</td>\n",
       "      <td>...</td>\n",
       "      <td>...</td>\n",
       "      <td>...</td>\n",
       "    </tr>\n",
       "    <tr>\n",
       "      <th>62382</th>\n",
       "      <td>98468618</td>\n",
       "      <td>187402ATB,454003ATB,191502ATB,222805ATB,107601...</td>\n",
       "      <td>E782,M544,E119,I109,F412,K590,I694,M791,K219</td>\n",
       "      <td>E119</td>\n",
       "    </tr>\n",
       "    <tr>\n",
       "      <th>62383</th>\n",
       "      <td>98617616</td>\n",
       "      <td>264800ATB,358500ASY,267300ASY,374603ATB,438901...</td>\n",
       "      <td>H103,J010,E149,J302,E109</td>\n",
       "      <td>E149,E109</td>\n",
       "    </tr>\n",
       "    <tr>\n",
       "      <th>62384</th>\n",
       "      <td>98813694</td>\n",
       "      <td>111001ATE,191502ATB,246501ATB,478601ACS,469900...</td>\n",
       "      <td>I251,E780,I100,E108,K760,G632,E119,E039,I109,E144</td>\n",
       "      <td>E108,E119,E144</td>\n",
       "    </tr>\n",
       "    <tr>\n",
       "      <th>62385</th>\n",
       "      <td>99684720</td>\n",
       "      <td>431901ATB,111402ATB,239001ATB,199404ATE,468501...</td>\n",
       "      <td>E145,I679,I109,K299,M819,M179,H818,M810,I209,E...</td>\n",
       "      <td>E145,E119</td>\n",
       "    </tr>\n",
       "    <tr>\n",
       "      <th>62386</th>\n",
       "      <td>99911920</td>\n",
       "      <td>468501ATB,165702ATB,100901ATB,101405ATR,222801...</td>\n",
       "      <td>I109,E149,E119,G442,K297,M543,J039,J010,J303,K...</td>\n",
       "      <td>E149,E119,E138</td>\n",
       "    </tr>\n",
       "  </tbody>\n",
       "</table>\n",
       "<p>62387 rows × 4 columns</p>\n",
       "</div>"
      ],
      "text/plain": [
       "       PERSON_ID                                          GNL_NM_CD  \\\n",
       "0       10000755  177303ATB,157703ATR,191503ATB,470901ATB,165001...   \n",
       "1       10003063  165702ATB,133301ATB,144001ATB,131801ATB,150001...   \n",
       "2       10005849  191502ATB,191501ATB,461801BIJ,421001ATB,430101...   \n",
       "3       10006702  515201ATB,100602ATB,101404ATB,295600ATB,474300...   \n",
       "4       10009199  180301ATB,201801ATB,165702ATB,250501ATB,243501...   \n",
       "...          ...                                                ...   \n",
       "62382   98468618  187402ATB,454003ATB,191502ATB,222805ATB,107601...   \n",
       "62383   98617616  264800ATB,358500ASY,267300ASY,374603ATB,438901...   \n",
       "62384   98813694  111001ATE,191502ATB,246501ATB,478601ACS,469900...   \n",
       "62385   99684720  431901ATB,111402ATB,239001ATB,199404ATE,468501...   \n",
       "62386   99911920  468501ATB,165702ATB,100901ATB,101405ATR,222801...   \n",
       "\n",
       "                                            SICK_SYMnorm         MAIN_ICDnorm  \n",
       "0      I100,E115,E785,E780,I109,E781,E782,E119,E079,K...  E115,E119,E149,E148  \n",
       "1      E110,I209,N088,I709,B178,D508,E781,J041,K599,K...            E119,E114  \n",
       "2      E109,E119,E789,E104,K296,K279,J000,R120,E139,T232  E109,E119,E104,E139  \n",
       "3      L500,K277,M544,E785,E119,K300,I100,K529,H814,G...       E119,E118,E114  \n",
       "4      I100,G470,E100,R520,E139,J069,E135,J030,E110,L...  E109,E139,E135,E119  \n",
       "...                                                  ...                  ...  \n",
       "62382       E782,M544,E119,I109,F412,K590,I694,M791,K219                 E119  \n",
       "62383                           H103,J010,E149,J302,E109            E149,E109  \n",
       "62384  I251,E780,I100,E108,K760,G632,E119,E039,I109,E144       E108,E119,E144  \n",
       "62385  E145,I679,I109,K299,M819,M179,H818,M810,I209,E...            E145,E119  \n",
       "62386  I109,E149,E119,G442,K297,M543,J039,J010,J303,K...       E149,E119,E138  \n",
       "\n",
       "[62387 rows x 4 columns]"
      ]
     },
     "execution_count": 15,
     "metadata": {},
     "output_type": "execute_result"
    }
   ],
   "source": [
    "data_groupy"
   ]
  },
  {
   "cell_type": "code",
   "execution_count": 16,
   "metadata": {},
   "outputs": [
    {
     "name": "stderr",
     "output_type": "stream",
     "text": [
      "<ipython-input-16-8555f5acbf54>:5: SettingWithCopyWarning: \n",
      "A value is trying to be set on a copy of a slice from a DataFrame\n",
      "\n",
      "See the caveats in the documentation: https://pandas.pydata.org/pandas-docs/stable/user_guide/indexing.html#returning-a-view-versus-a-copy\n",
      "  data_groupy['FOOT'][j] = 1\n"
     ]
    }
   ],
   "source": [
    "data_groupy['FOOT'] = ''\n",
    "for j in range(62387 ):\n",
    "    for i in ['E105','E115','E125','E135','E145']:\n",
    "        if i in data_groupy['SICK_SYMnorm'][j]:\n",
    "            data_groupy['FOOT'][j] = 1\n",
    "        else:\n",
    "            pass"
   ]
  },
  {
   "cell_type": "code",
   "execution_count": 17,
   "metadata": {},
   "outputs": [
    {
     "name": "stderr",
     "output_type": "stream",
     "text": [
      "<ipython-input-17-6e3726be90d4>:5: SettingWithCopyWarning: \n",
      "A value is trying to be set on a copy of a slice from a DataFrame\n",
      "\n",
      "See the caveats in the documentation: https://pandas.pydata.org/pandas-docs/stable/user_guide/indexing.html#returning-a-view-versus-a-copy\n",
      "  data_groupy['MULTI'][j] = 1\n"
     ]
    }
   ],
   "source": [
    "data_groupy['MULTI'] = ''\n",
    "for j in range(62387 ):\n",
    "    for i in ['E107','E117','E127','E137','E147']:\n",
    "        if i in data_groupy['SICK_SYMnorm'][j]:\n",
    "            data_groupy['MULTI'][j] = 1\n",
    "        else:\n",
    "            pass"
   ]
  },
  {
   "cell_type": "code",
   "execution_count": 18,
   "metadata": {},
   "outputs": [
    {
     "name": "stderr",
     "output_type": "stream",
     "text": [
      "<ipython-input-18-7dc1c94af1b0>:12: SettingWithCopyWarning: \n",
      "A value is trying to be set on a copy of a slice from a DataFrame\n",
      "\n",
      "See the caveats in the documentation: https://pandas.pydata.org/pandas-docs/stable/user_guide/indexing.html#returning-a-view-versus-a-copy\n",
      "  data_groupy['HYP'][j] = 1\n",
      "<ipython-input-18-7dc1c94af1b0>:21: SettingWithCopyWarning: \n",
      "A value is trying to be set on a copy of a slice from a DataFrame\n",
      "\n",
      "See the caveats in the documentation: https://pandas.pydata.org/pandas-docs/stable/user_guide/indexing.html#returning-a-view-versus-a-copy\n",
      "  data_groupy['KDY'][j] = 1\n",
      "<ipython-input-18-7dc1c94af1b0>:28: SettingWithCopyWarning: \n",
      "A value is trying to be set on a copy of a slice from a DataFrame\n",
      "\n",
      "See the caveats in the documentation: https://pandas.pydata.org/pandas-docs/stable/user_guide/indexing.html#returning-a-view-versus-a-copy\n",
      "  data_groupy['NEURO'][j] = 1\n",
      "<ipython-input-18-7dc1c94af1b0>:38: SettingWithCopyWarning: \n",
      "A value is trying to be set on a copy of a slice from a DataFrame\n",
      "\n",
      "See the caveats in the documentation: https://pandas.pydata.org/pandas-docs/stable/user_guide/indexing.html#returning-a-view-versus-a-copy\n",
      "  data_groupy['HRT'][j] = 1\n",
      "<ipython-input-18-7dc1c94af1b0>:50: SettingWithCopyWarning: \n",
      "A value is trying to be set on a copy of a slice from a DataFrame\n",
      "\n",
      "See the caveats in the documentation: https://pandas.pydata.org/pandas-docs/stable/user_guide/indexing.html#returning-a-view-versus-a-copy\n",
      "  data_groupy['STK'][j] = 1\n"
     ]
    }
   ],
   "source": [
    "data_groupy['LBP'] = ''\n",
    "for j in range(62387 ):\n",
    "    for i in ['E1163','E1263','E1363' ,'E1463']:\n",
    "        if i in data_groupy['SICK_SYMnorm'][j]:\n",
    "            data_groupy['LBP'][j] = 1\n",
    "        else:\n",
    "            pass\n",
    "data_groupy['HYP'] = ''\n",
    "for j in range(62387 ):\n",
    "    for i in ['E103','E113','E123','E133','E143','H360','H280']:\n",
    "        if i in data_groupy['SICK_SYMnorm'][j]:\n",
    "            data_groupy['HYP'][j] = 1\n",
    "        else:\n",
    "            pass\n",
    "data_groupy['KDY'] = ''\n",
    "for j in range(62387 ):\n",
    "    for i in ['N083','E102','E112','E122','E132','E142','I120',  \n",
    "              'I131','I132','N18', 'N180', 'N181', 'N182', 'N183', \n",
    "              'N184', 'N185', 'N188', 'N189']:\n",
    "        if i in data_groupy['SICK_SYMnorm'][j]:\n",
    "            data_groupy['KDY'][j] = 1\n",
    "        else:\n",
    "            pass\n",
    "data_groupy['NEURO'] = ''\n",
    "for j in range(62387 ):\n",
    "    for i in ['G590','G632','E104','E114','E124','E134','E144']:\n",
    "        if i in data_groupy['SICK_SYMnorm'][j]:\n",
    "            data_groupy['NEURO'][j] = 1\n",
    "        else:\n",
    "            pass\n",
    "data_groupy['HRT'] = ''\n",
    "for j in range(62387 ):\n",
    "    for i in ['I21', 'I210', 'I211', 'I212', 'I213', \n",
    "              'I214', 'I2140', 'I2141', 'I2148', 'I219','I22', \n",
    "              'I220', 'I221', 'I228', 'I229','I110','I130','I132',\n",
    "              'I50', 'I500', 'I5000','I5001', 'I5002', 'I501', 'I509']:\n",
    "        if i in data_groupy['SICK_SYMnorm'][j]:\n",
    "            data_groupy['HRT'][j] = 1\n",
    "        else:\n",
    "            pass\n",
    "data_groupy['STK'] = ''\n",
    "for j in range(62387 ):\n",
    "    for i in ['I60', 'I600', 'I602', 'I605',\n",
    "              'I607', 'I609', 'I61', 'I610', 'I618', 'I619', 'I62', 'I620', 'I621',\n",
    "              'I63', 'I630', 'I6300', 'I6301', 'I6302', 'I6308', 'I6309', 'I631',\n",
    "              'I6318', 'I6319', 'I632', 'I6329', 'I633', 'I6330', 'I6331', 'I6333',\n",
    "              'I6338', 'I6339', 'I634', 'I6348', 'I6349', 'I635', 'I6350', 'I6353', \n",
    "              'I6358', 'I6359', 'I636', 'I638', 'I639']:\n",
    "        if i in data_groupy['SICK_SYMnorm'][j]:\n",
    "            data_groupy['STK'][j] = 1\n",
    "        else:\n",
    "            pass"
   ]
  },
  {
   "cell_type": "code",
   "execution_count": 19,
   "metadata": {},
   "outputs": [],
   "source": [
    "del data_groupy['LBP']"
   ]
  },
  {
   "cell_type": "code",
   "execution_count": 42,
   "metadata": {},
   "outputs": [],
   "source": [
    "# 약제와 질병에 대해서만 저장\n",
    "data_groupy.to_csv('C:/Users/dowoon/Desktop/유사도 프로젝트/project1/final_label.csv',index=False)"
   ]
  },
  {
   "cell_type": "code",
   "execution_count": null,
   "metadata": {},
   "outputs": [],
   "source": []
  },
  {
   "cell_type": "code",
   "execution_count": null,
   "metadata": {},
   "outputs": [],
   "source": []
  },
  {
   "cell_type": "code",
   "execution_count": null,
   "metadata": {},
   "outputs": [],
   "source": []
  }
 ],
 "metadata": {
  "kernelspec": {
   "display_name": "Python 3",
   "language": "python",
   "name": "python3"
  },
  "language_info": {
   "codemirror_mode": {
    "name": "ipython",
    "version": 3
   },
   "file_extension": ".py",
   "mimetype": "text/x-python",
   "name": "python",
   "nbconvert_exporter": "python",
   "pygments_lexer": "ipython3",
   "version": "3.8.8"
  }
 },
 "nbformat": 4,
 "nbformat_minor": 2
}
